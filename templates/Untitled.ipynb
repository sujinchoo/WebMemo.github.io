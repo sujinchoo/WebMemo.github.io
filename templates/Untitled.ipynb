{
 "cells": [
  {
   "cell_type": "code",
   "execution_count": null,
   "id": "c0fa67ec",
   "metadata": {},
   "outputs": [],
   "source": [
    "<!DOCTYPE html>\n",
    "<html lang=\"en\">\n",
    "<head>\n",
    "    <meta charset=\"UTF-8\">\n",
    "    <meta name=\"viewport\" content=\"width=device-width, initial-scale=1.0\">\n",
    "    <title>메모장</title>\n",
    "</head>\n",
    "<body>\n",
    "    <h1>메모장</h1>\n",
    "    <ul>\n",
    "        {% for note in notes %}\n",
    "            <li>{{ note }}</li>\n",
    "        {% endfor %}\n",
    "    </ul>\n",
    "    <form method=\"POST\" action=\"/add_note\">\n",
    "        <label for=\"note\">메모 추가:</label>\n",
    "        <input type=\"text\" id=\"note\" name=\"note\" required>\n",
    "        <button type=\"submit\">추가</button>\n",
    "    </form>\n",
    "</body>\n",
    "</html>\n"
   ]
  }
 ],
 "metadata": {
  "kernelspec": {
   "display_name": "Python 3 (ipykernel)",
   "language": "python",
   "name": "python3"
  },
  "language_info": {
   "codemirror_mode": {
    "name": "ipython",
    "version": 3
   },
   "file_extension": ".py",
   "mimetype": "text/x-python",
   "name": "python",
   "nbconvert_exporter": "python",
   "pygments_lexer": "ipython3",
   "version": "3.10.9"
  }
 },
 "nbformat": 4,
 "nbformat_minor": 5
}
